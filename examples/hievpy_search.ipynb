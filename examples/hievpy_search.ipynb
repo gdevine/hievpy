{
 "cells": [
  {
   "cell_type": "markdown",
   "metadata": {},
   "source": [
    "#### Import hievpy library"
   ]
  },
  {
   "cell_type": "code",
   "execution_count": 1,
   "metadata": {
    "collapsed": true
   },
   "outputs": [],
   "source": [
    "import hievpy as hp"
   ]
  },
  {
   "cell_type": "markdown",
   "metadata": {},
   "source": [
    "#### Import the credentials file and set the API token"
   ]
  },
  {
   "cell_type": "code",
   "execution_count": 2,
   "metadata": {
    "collapsed": true
   },
   "outputs": [],
   "source": [
    "import credentials as c\n",
    "api_token = c.hiev_api_key"
   ]
  },
  {
   "cell_type": "markdown",
   "metadata": {},
   "source": [
    "#### Set the base URL of the HIEv instance being called against"
   ]
  },
  {
   "cell_type": "code",
   "execution_count": 3,
   "metadata": {
    "collapsed": true
   },
   "outputs": [],
   "source": [
    "base_url = 'https://hiev.westernsydney.edu.au/'"
   ]
  },
  {
   "cell_type": "markdown",
   "metadata": {},
   "source": [
    "#### Set the search parameters"
   ]
  },
  {
   "cell_type": "code",
   "execution_count": 4,
   "metadata": {
    "collapsed": true
   },
   "outputs": [],
   "source": [
    "search_params = {\"filename\": \"DRL_AUTO_450LO_SOIL_R\",\n",
    "                 \"from_date\": \"2017-01-02\",\n",
    "                 \"to_date\": \"2018-01-01\"}"
   ]
  },
  {
   "cell_type": "markdown",
   "metadata": {},
   "source": [
    "#### Run the hievpy search function using the search parameters"
   ]
  },
  {
   "cell_type": "code",
   "execution_count": 5,
   "metadata": {
    "collapsed": false
   },
   "outputs": [],
   "source": [
    "records = hp.search(api_token, base_url, search_params)"
   ]
  },
  {
   "cell_type": "markdown",
   "metadata": {},
   "source": [
    "#### Check the results"
   ]
  },
  {
   "cell_type": "code",
   "execution_count": 6,
   "metadata": {
    "collapsed": false
   },
   "outputs": [
    {
     "name": "stdout",
     "output_type": "stream",
     "text": [
      "DRL_AUTO_450LO_SOIL_R_20170131.dat\n",
      "DRL_AUTO_450LO_SOIL_R_20170731.dat\n",
      "DRL_AUTO_450LO_SOIL_R_20170430.dat\n",
      "DRL_AUTO_450LO_SOIL_R_20171031.dat\n",
      "DRL_AUTO_450LO_SOIL_R_20170331.dat\n",
      "DRL_AUTO_450LO_SOIL_R_20170228.dat\n",
      "DRL_AUTO_450LO_SOIL_R_20170630.dat\n",
      "DRL_AUTO_450LO_SOIL_R_20180131.dat\n",
      "DRL_AUTO_450LO_SOIL_R_20170531.dat\n",
      "DRL_AUTO_450LO_SOIL_R_20170930.dat\n",
      "DRL_AUTO_450LO_SOIL_R_20170831.dat\n",
      "DRL_AUTO_450LO_SOIL_R_20171231.dat\n",
      "DRL_AUTO_450LO_SOIL_R_20171130.dat\n"
     ]
    }
   ],
   "source": [
    "for record in records: print(record['filename'])"
   ]
  },
  {
   "cell_type": "code",
   "execution_count": null,
   "metadata": {
    "collapsed": true
   },
   "outputs": [],
   "source": []
  }
 ],
 "metadata": {
  "kernelspec": {
   "display_name": "Data Analysis",
   "language": "python",
   "name": "data_analysis"
  },
  "language_info": {
   "codemirror_mode": {
    "name": "ipython",
    "version": 3
   },
   "file_extension": ".py",
   "mimetype": "text/x-python",
   "name": "python",
   "nbconvert_exporter": "python",
   "pygments_lexer": "ipython3",
   "version": "3.6.6"
  }
 },
 "nbformat": 4,
 "nbformat_minor": 2
}
