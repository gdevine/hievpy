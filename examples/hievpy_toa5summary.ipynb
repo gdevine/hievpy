{
 "cells": [
  {
   "cell_type": "code",
   "execution_count": 1,
   "metadata": {},
   "outputs": [],
   "source": [
    "import hievpy as hp"
   ]
  },
  {
   "cell_type": "markdown",
   "metadata": {},
   "source": [
    "#### Import the credentials file and set the API token"
   ]
  },
  {
   "cell_type": "code",
   "execution_count": 2,
   "metadata": {},
   "outputs": [],
   "source": [
    "import credentials as c\n",
    "api_token = c.hiev_api_key"
   ]
  },
  {
   "cell_type": "markdown",
   "metadata": {},
   "source": [
    "#### Set the base URL of the HIEv instance being called against"
   ]
  },
  {
   "cell_type": "code",
   "execution_count": 3,
   "metadata": {},
   "outputs": [],
   "source": [
    "base_url = 'https://hiev.westernsydney.edu.au/'"
   ]
  },
  {
   "cell_type": "markdown",
   "metadata": {},
   "source": [
    "#### Set up search filters (in this case we want to use the search function to identify a single file)"
   ]
  },
  {
   "cell_type": "code",
   "execution_count": 4,
   "metadata": {},
   "outputs": [],
   "source": [
    "search_params = {\"filename\": \"DRL_AUTO_250HI_SOIL_R_20181031.dat\"}"
   ]
  },
  {
   "cell_type": "markdown",
   "metadata": {},
   "source": [
    "#### Search for all records matching the filter"
   ]
  },
  {
   "cell_type": "code",
   "execution_count": 5,
   "metadata": {},
   "outputs": [],
   "source": [
    "records = hp.search(api_token, base_url, search_params)"
   ]
  },
  {
   "cell_type": "markdown",
   "metadata": {},
   "source": [
    "#### Assuming one record returned, pass the first result to toa5_summary"
   ]
  },
  {
   "cell_type": "code",
   "execution_count": 6,
   "metadata": {},
   "outputs": [
    {
     "name": "stdout",
     "output_type": "stream",
     "text": [
      "TIMESTAMP  TS  nan\n",
      "RECORD  RN  nan\n",
      "BattV_Min  Volts  Min\n",
      "VW_Avg(1)  nan  Avg\n",
      "VW_Avg(2)  nan  Avg\n",
      "VW_Avg(3)  nan  Avg\n",
      "VW_Avg(4)  nan  Avg\n",
      "VW_Avg(5)  nan  Avg\n",
      "VW_Avg(6)  nan  Avg\n",
      "VW_Avg(7)  nan  Avg\n",
      "VW_Avg(8)  nan  Avg\n",
      "VW_Avg(9)  nan  Avg\n",
      "Rain_mm_Tot  mm  Tot\n"
     ]
    }
   ],
   "source": [
    "record = records[0]\n",
    "hp.toa5_summary(api_token, record)"
   ]
  },
  {
   "cell_type": "code",
   "execution_count": null,
   "metadata": {},
   "outputs": [],
   "source": []
  }
 ],
 "metadata": {
  "kernelspec": {
   "display_name": "Data Analysis",
   "language": "python",
   "name": "data_analysis"
  },
  "language_info": {
   "codemirror_mode": {
    "name": "ipython",
    "version": 3
   },
   "file_extension": ".py",
   "mimetype": "text/x-python",
   "name": "python",
   "nbconvert_exporter": "python",
   "pygments_lexer": "ipython3",
   "version": "3.6.6"
  }
 },
 "nbformat": 4,
 "nbformat_minor": 2
}
